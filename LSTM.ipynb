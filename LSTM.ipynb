{
 "cells": [
  {
   "cell_type": "code",
   "execution_count": null,
   "id": "1381267e",
   "metadata": {},
   "outputs": [],
   "source": []
  },
  {
   "cell_type": "code",
   "execution_count": 2,
   "id": "27157cb1",
   "metadata": {},
   "outputs": [],
   "source": [
    "import pandas as pd\n",
    "import numpy as np\n",
    "import matplotlib.pyplot as plt\n"
   ]
  },
  {
   "cell_type": "code",
   "execution_count": 3,
   "id": "ed246dac",
   "metadata": {},
   "outputs": [
    {
     "name": "stderr",
     "output_type": "stream",
     "text": [
      "C:\\Users\\Rudraksh kaushik\\AppData\\Local\\Temp\\ipykernel_17624\\170716274.py:7: FutureWarning: YF.download() has changed argument auto_adjust default to True\n",
      "  df=yf.download(stock,start,end)\n",
      "[*********************100%***********************]  1 of 1 completed\n"
     ]
    }
   ],
   "source": [
    "import yfinance as yf\n",
    "import datetime as dt\n",
    "\n",
    "stock=\"GS\"\n",
    "start=dt.datetime(2000,1,1)\n",
    "end=dt.datetime(2025,11,1)\n",
    "df=yf.download(stock,start,end)"
   ]
  },
  {
   "cell_type": "code",
   "execution_count": 4,
   "id": "b8edd0d7",
   "metadata": {},
   "outputs": [
    {
     "data": {
      "text/html": [
       "<div>\n",
       "<style scoped>\n",
       "    .dataframe tbody tr th:only-of-type {\n",
       "        vertical-align: middle;\n",
       "    }\n",
       "\n",
       "    .dataframe tbody tr th {\n",
       "        vertical-align: top;\n",
       "    }\n",
       "\n",
       "    .dataframe thead tr th {\n",
       "        text-align: left;\n",
       "    }\n",
       "\n",
       "    .dataframe thead tr:last-of-type th {\n",
       "        text-align: right;\n",
       "    }\n",
       "</style>\n",
       "<table border=\"1\" class=\"dataframe\">\n",
       "  <thead>\n",
       "    <tr>\n",
       "      <th>Price</th>\n",
       "      <th>Close</th>\n",
       "      <th>High</th>\n",
       "      <th>Low</th>\n",
       "      <th>Open</th>\n",
       "      <th>Volume</th>\n",
       "    </tr>\n",
       "    <tr>\n",
       "      <th>Ticker</th>\n",
       "      <th>GS</th>\n",
       "      <th>GS</th>\n",
       "      <th>GS</th>\n",
       "      <th>GS</th>\n",
       "      <th>GS</th>\n",
       "    </tr>\n",
       "    <tr>\n",
       "      <th>Date</th>\n",
       "      <th></th>\n",
       "      <th></th>\n",
       "      <th></th>\n",
       "      <th></th>\n",
       "      <th></th>\n",
       "    </tr>\n",
       "  </thead>\n",
       "  <tbody>\n",
       "    <tr>\n",
       "      <th>2000-01-03</th>\n",
       "      <td>61.663677</td>\n",
       "      <td>65.896782</td>\n",
       "      <td>61.270915</td>\n",
       "      <td>65.765861</td>\n",
       "      <td>1822600</td>\n",
       "    </tr>\n",
       "    <tr>\n",
       "      <th>2000-01-04</th>\n",
       "      <td>57.779663</td>\n",
       "      <td>61.096320</td>\n",
       "      <td>57.430541</td>\n",
       "      <td>60.747199</td>\n",
       "      <td>1647700</td>\n",
       "    </tr>\n",
       "    <tr>\n",
       "      <th>2000-01-05</th>\n",
       "      <td>55.073982</td>\n",
       "      <td>57.168714</td>\n",
       "      <td>54.724860</td>\n",
       "      <td>56.470470</td>\n",
       "      <td>1516600</td>\n",
       "    </tr>\n",
       "    <tr>\n",
       "      <th>2000-01-06</th>\n",
       "      <td>57.430546</td>\n",
       "      <td>59.001594</td>\n",
       "      <td>54.899412</td>\n",
       "      <td>54.899412</td>\n",
       "      <td>1845100</td>\n",
       "    </tr>\n",
       "    <tr>\n",
       "      <th>2000-01-07</th>\n",
       "      <td>57.648777</td>\n",
       "      <td>58.085180</td>\n",
       "      <td>55.772246</td>\n",
       "      <td>57.997899</td>\n",
       "      <td>1127400</td>\n",
       "    </tr>\n",
       "  </tbody>\n",
       "</table>\n",
       "</div>"
      ],
      "text/plain": [
       "Price           Close       High        Low       Open   Volume\n",
       "Ticker             GS         GS         GS         GS       GS\n",
       "Date                                                           \n",
       "2000-01-03  61.663677  65.896782  61.270915  65.765861  1822600\n",
       "2000-01-04  57.779663  61.096320  57.430541  60.747199  1647700\n",
       "2000-01-05  55.073982  57.168714  54.724860  56.470470  1516600\n",
       "2000-01-06  57.430546  59.001594  54.899412  54.899412  1845100\n",
       "2000-01-07  57.648777  58.085180  55.772246  57.997899  1127400"
      ]
     },
     "execution_count": 4,
     "metadata": {},
     "output_type": "execute_result"
    }
   ],
   "source": [
    "df.head()"
   ]
  },
  {
   "cell_type": "code",
   "execution_count": 5,
   "id": "c3e00b48",
   "metadata": {},
   "outputs": [
    {
     "data": {
      "text/html": [
       "<div>\n",
       "<style scoped>\n",
       "    .dataframe tbody tr th:only-of-type {\n",
       "        vertical-align: middle;\n",
       "    }\n",
       "\n",
       "    .dataframe tbody tr th {\n",
       "        vertical-align: top;\n",
       "    }\n",
       "\n",
       "    .dataframe thead tr th {\n",
       "        text-align: left;\n",
       "    }\n",
       "\n",
       "    .dataframe thead tr:last-of-type th {\n",
       "        text-align: right;\n",
       "    }\n",
       "</style>\n",
       "<table border=\"1\" class=\"dataframe\">\n",
       "  <thead>\n",
       "    <tr>\n",
       "      <th>Price</th>\n",
       "      <th>Close</th>\n",
       "      <th>High</th>\n",
       "      <th>Low</th>\n",
       "      <th>Open</th>\n",
       "      <th>Volume</th>\n",
       "    </tr>\n",
       "    <tr>\n",
       "      <th>Ticker</th>\n",
       "      <th>GS</th>\n",
       "      <th>GS</th>\n",
       "      <th>GS</th>\n",
       "      <th>GS</th>\n",
       "      <th>GS</th>\n",
       "    </tr>\n",
       "    <tr>\n",
       "      <th>Date</th>\n",
       "      <th></th>\n",
       "      <th></th>\n",
       "      <th></th>\n",
       "      <th></th>\n",
       "      <th></th>\n",
       "    </tr>\n",
       "  </thead>\n",
       "  <tbody>\n",
       "    <tr>\n",
       "      <th>2025-09-08</th>\n",
       "      <td>741.849976</td>\n",
       "      <td>743.539978</td>\n",
       "      <td>733.570007</td>\n",
       "      <td>739.419983</td>\n",
       "      <td>1400100</td>\n",
       "    </tr>\n",
       "    <tr>\n",
       "      <th>2025-09-09</th>\n",
       "      <td>763.919983</td>\n",
       "      <td>765.619995</td>\n",
       "      <td>738.539978</td>\n",
       "      <td>740.130005</td>\n",
       "      <td>2611300</td>\n",
       "    </tr>\n",
       "    <tr>\n",
       "      <th>2025-09-10</th>\n",
       "      <td>769.580017</td>\n",
       "      <td>774.469971</td>\n",
       "      <td>761.630005</td>\n",
       "      <td>761.859985</td>\n",
       "      <td>1996200</td>\n",
       "    </tr>\n",
       "    <tr>\n",
       "      <th>2025-09-11</th>\n",
       "      <td>784.729980</td>\n",
       "      <td>793.169983</td>\n",
       "      <td>771.349976</td>\n",
       "      <td>772.000000</td>\n",
       "      <td>2075700</td>\n",
       "    </tr>\n",
       "    <tr>\n",
       "      <th>2025-09-12</th>\n",
       "      <td>780.059998</td>\n",
       "      <td>787.030029</td>\n",
       "      <td>776.260010</td>\n",
       "      <td>783.500000</td>\n",
       "      <td>1099400</td>\n",
       "    </tr>\n",
       "  </tbody>\n",
       "</table>\n",
       "</div>"
      ],
      "text/plain": [
       "Price            Close        High         Low        Open   Volume\n",
       "Ticker              GS          GS          GS          GS       GS\n",
       "Date                                                               \n",
       "2025-09-08  741.849976  743.539978  733.570007  739.419983  1400100\n",
       "2025-09-09  763.919983  765.619995  738.539978  740.130005  2611300\n",
       "2025-09-10  769.580017  774.469971  761.630005  761.859985  1996200\n",
       "2025-09-11  784.729980  793.169983  771.349976  772.000000  2075700\n",
       "2025-09-12  780.059998  787.030029  776.260010  783.500000  1099400"
      ]
     },
     "execution_count": 5,
     "metadata": {},
     "output_type": "execute_result"
    }
   ],
   "source": [
    "df.tail()"
   ]
  },
  {
   "cell_type": "code",
   "execution_count": null,
   "id": "868cc982",
   "metadata": {},
   "outputs": [],
   "source": []
  },
  {
   "cell_type": "code",
   "execution_count": 6,
   "id": "b7fa13d5",
   "metadata": {},
   "outputs": [
    {
     "data": {
      "text/plain": [
       "(6463, 5)"
      ]
     },
     "execution_count": 6,
     "metadata": {},
     "output_type": "execute_result"
    }
   ],
   "source": [
    "df.shape"
   ]
  },
  {
   "cell_type": "code",
   "execution_count": 7,
   "id": "84651df6",
   "metadata": {},
   "outputs": [
    {
     "name": "stdout",
     "output_type": "stream",
     "text": [
      "<class 'pandas.core.frame.DataFrame'>\n",
      "DatetimeIndex: 6463 entries, 2000-01-03 to 2025-09-12\n",
      "Data columns (total 5 columns):\n",
      " #   Column        Non-Null Count  Dtype  \n",
      "---  ------        --------------  -----  \n",
      " 0   (Close, GS)   6463 non-null   float64\n",
      " 1   (High, GS)    6463 non-null   float64\n",
      " 2   (Low, GS)     6463 non-null   float64\n",
      " 3   (Open, GS)    6463 non-null   float64\n",
      " 4   (Volume, GS)  6463 non-null   int64  \n",
      "dtypes: float64(4), int64(1)\n",
      "memory usage: 303.0 KB\n"
     ]
    }
   ],
   "source": [
    "df.info()"
   ]
  },
  {
   "cell_type": "code",
   "execution_count": 8,
   "id": "5961ced3",
   "metadata": {},
   "outputs": [
    {
     "data": {
      "text/plain": [
       "Price   Ticker\n",
       "Close   GS        0\n",
       "High    GS        0\n",
       "Low     GS        0\n",
       "Open    GS        0\n",
       "Volume  GS        0\n",
       "dtype: int64"
      ]
     },
     "execution_count": 8,
     "metadata": {},
     "output_type": "execute_result"
    }
   ],
   "source": [
    "df.isnull().sum()"
   ]
  },
  {
   "cell_type": "code",
   "execution_count": 9,
   "id": "241da4cb",
   "metadata": {},
   "outputs": [],
   "source": [
    "df=df.reset_index()"
   ]
  },
  {
   "cell_type": "code",
   "execution_count": 10,
   "id": "2224a188",
   "metadata": {},
   "outputs": [
    {
     "data": {
      "text/html": [
       "<div>\n",
       "<style scoped>\n",
       "    .dataframe tbody tr th:only-of-type {\n",
       "        vertical-align: middle;\n",
       "    }\n",
       "\n",
       "    .dataframe tbody tr th {\n",
       "        vertical-align: top;\n",
       "    }\n",
       "\n",
       "    .dataframe thead tr th {\n",
       "        text-align: left;\n",
       "    }\n",
       "</style>\n",
       "<table border=\"1\" class=\"dataframe\">\n",
       "  <thead>\n",
       "    <tr>\n",
       "      <th>Price</th>\n",
       "      <th>Date</th>\n",
       "      <th>Close</th>\n",
       "      <th>High</th>\n",
       "      <th>Low</th>\n",
       "      <th>Open</th>\n",
       "      <th>Volume</th>\n",
       "    </tr>\n",
       "    <tr>\n",
       "      <th>Ticker</th>\n",
       "      <th></th>\n",
       "      <th>GS</th>\n",
       "      <th>GS</th>\n",
       "      <th>GS</th>\n",
       "      <th>GS</th>\n",
       "      <th>GS</th>\n",
       "    </tr>\n",
       "  </thead>\n",
       "  <tbody>\n",
       "    <tr>\n",
       "      <th>0</th>\n",
       "      <td>2000-01-03</td>\n",
       "      <td>61.663677</td>\n",
       "      <td>65.896782</td>\n",
       "      <td>61.270915</td>\n",
       "      <td>65.765861</td>\n",
       "      <td>1822600</td>\n",
       "    </tr>\n",
       "    <tr>\n",
       "      <th>1</th>\n",
       "      <td>2000-01-04</td>\n",
       "      <td>57.779663</td>\n",
       "      <td>61.096320</td>\n",
       "      <td>57.430541</td>\n",
       "      <td>60.747199</td>\n",
       "      <td>1647700</td>\n",
       "    </tr>\n",
       "    <tr>\n",
       "      <th>2</th>\n",
       "      <td>2000-01-05</td>\n",
       "      <td>55.073982</td>\n",
       "      <td>57.168714</td>\n",
       "      <td>54.724860</td>\n",
       "      <td>56.470470</td>\n",
       "      <td>1516600</td>\n",
       "    </tr>\n",
       "    <tr>\n",
       "      <th>3</th>\n",
       "      <td>2000-01-06</td>\n",
       "      <td>57.430546</td>\n",
       "      <td>59.001594</td>\n",
       "      <td>54.899412</td>\n",
       "      <td>54.899412</td>\n",
       "      <td>1845100</td>\n",
       "    </tr>\n",
       "    <tr>\n",
       "      <th>4</th>\n",
       "      <td>2000-01-07</td>\n",
       "      <td>57.648777</td>\n",
       "      <td>58.085180</td>\n",
       "      <td>55.772246</td>\n",
       "      <td>57.997899</td>\n",
       "      <td>1127400</td>\n",
       "    </tr>\n",
       "  </tbody>\n",
       "</table>\n",
       "</div>"
      ],
      "text/plain": [
       "Price        Date      Close       High        Low       Open   Volume\n",
       "Ticker                    GS         GS         GS         GS       GS\n",
       "0      2000-01-03  61.663677  65.896782  61.270915  65.765861  1822600\n",
       "1      2000-01-04  57.779663  61.096320  57.430541  60.747199  1647700\n",
       "2      2000-01-05  55.073982  57.168714  54.724860  56.470470  1516600\n",
       "3      2000-01-06  57.430546  59.001594  54.899412  54.899412  1845100\n",
       "4      2000-01-07  57.648777  58.085180  55.772246  57.997899  1127400"
      ]
     },
     "execution_count": 10,
     "metadata": {},
     "output_type": "execute_result"
    }
   ],
   "source": [
    "df.head()"
   ]
  },
  {
   "cell_type": "code",
   "execution_count": 11,
   "id": "c76e23ca",
   "metadata": {},
   "outputs": [
    {
     "data": {
      "text/plain": [
       "MultiIndex([(  'Date',   ''),\n",
       "            ( 'Close', 'GS'),\n",
       "            (  'High', 'GS'),\n",
       "            (   'Low', 'GS'),\n",
       "            (  'Open', 'GS'),\n",
       "            ('Volume', 'GS')],\n",
       "           names=['Price', 'Ticker'])"
      ]
     },
     "execution_count": 11,
     "metadata": {},
     "output_type": "execute_result"
    }
   ],
   "source": [
    "df.columns"
   ]
  },
  {
   "cell_type": "code",
   "execution_count": 12,
   "id": "d8d4ed8c",
   "metadata": {},
   "outputs": [],
   "source": [
    "data01=df.to_csv(\"C:\\\\Users\\\\Rudraksh kaushik\\\\OneDrive\\\\Desktop\\\\DatasciencePRactice\\\\Datasets\\\\GSS.csv\")"
   ]
  },
  {
   "cell_type": "code",
   "execution_count": 13,
   "id": "579af846",
   "metadata": {},
   "outputs": [],
   "source": [
    "data01=pd.read_csv(\"C:\\\\Users\\\\Rudraksh kaushik\\\\OneDrive\\\\Desktop\\\\DatasciencePRactice\\\\Datasets\\\\GSS.csv\")"
   ]
  },
  {
   "cell_type": "code",
   "execution_count": 14,
   "id": "c3780c7c",
   "metadata": {},
   "outputs": [
    {
     "data": {
      "text/html": [
       "<div>\n",
       "<style scoped>\n",
       "    .dataframe tbody tr th:only-of-type {\n",
       "        vertical-align: middle;\n",
       "    }\n",
       "\n",
       "    .dataframe tbody tr th {\n",
       "        vertical-align: top;\n",
       "    }\n",
       "\n",
       "    .dataframe thead th {\n",
       "        text-align: right;\n",
       "    }\n",
       "</style>\n",
       "<table border=\"1\" class=\"dataframe\">\n",
       "  <thead>\n",
       "    <tr style=\"text-align: right;\">\n",
       "      <th></th>\n",
       "      <th>Price</th>\n",
       "      <th>Date</th>\n",
       "      <th>Close</th>\n",
       "      <th>High</th>\n",
       "      <th>Low</th>\n",
       "      <th>Open</th>\n",
       "      <th>Volume</th>\n",
       "    </tr>\n",
       "  </thead>\n",
       "  <tbody>\n",
       "    <tr>\n",
       "      <th>0</th>\n",
       "      <td>Ticker</td>\n",
       "      <td>NaN</td>\n",
       "      <td>GS</td>\n",
       "      <td>GS</td>\n",
       "      <td>GS</td>\n",
       "      <td>GS</td>\n",
       "      <td>GS</td>\n",
       "    </tr>\n",
       "    <tr>\n",
       "      <th>1</th>\n",
       "      <td>0</td>\n",
       "      <td>2000-01-03</td>\n",
       "      <td>61.66367721557617</td>\n",
       "      <td>65.8967817378061</td>\n",
       "      <td>61.270914940317724</td>\n",
       "      <td>65.76586097938662</td>\n",
       "      <td>1822600</td>\n",
       "    </tr>\n",
       "    <tr>\n",
       "      <th>2</th>\n",
       "      <td>1</td>\n",
       "      <td>2000-01-04</td>\n",
       "      <td>57.7796630859375</td>\n",
       "      <td>61.09632048361971</td>\n",
       "      <td>57.430541254602524</td>\n",
       "      <td>60.74719865228474</td>\n",
       "      <td>1647700</td>\n",
       "    </tr>\n",
       "    <tr>\n",
       "      <th>3</th>\n",
       "      <td>2</td>\n",
       "      <td>2000-01-05</td>\n",
       "      <td>55.07398223876953</td>\n",
       "      <td>57.16871373438042</td>\n",
       "      <td>54.72486032283438</td>\n",
       "      <td>56.47046990251012</td>\n",
       "      <td>1516600</td>\n",
       "    </tr>\n",
       "    <tr>\n",
       "      <th>4</th>\n",
       "      <td>3</td>\n",
       "      <td>2000-01-06</td>\n",
       "      <td>57.430545806884766</td>\n",
       "      <td>59.00159417242265</td>\n",
       "      <td>54.89941232907373</td>\n",
       "      <td>54.89941232907373</td>\n",
       "      <td>1845100</td>\n",
       "    </tr>\n",
       "  </tbody>\n",
       "</table>\n",
       "</div>"
      ],
      "text/plain": [
       "    Price        Date               Close               High  \\\n",
       "0  Ticker         NaN                  GS                 GS   \n",
       "1       0  2000-01-03   61.66367721557617   65.8967817378061   \n",
       "2       1  2000-01-04    57.7796630859375  61.09632048361971   \n",
       "3       2  2000-01-05   55.07398223876953  57.16871373438042   \n",
       "4       3  2000-01-06  57.430545806884766  59.00159417242265   \n",
       "\n",
       "                  Low               Open   Volume  \n",
       "0                  GS                 GS       GS  \n",
       "1  61.270914940317724  65.76586097938662  1822600  \n",
       "2  57.430541254602524  60.74719865228474  1647700  \n",
       "3   54.72486032283438  56.47046990251012  1516600  \n",
       "4   54.89941232907373  54.89941232907373  1845100  "
      ]
     },
     "execution_count": 14,
     "metadata": {},
     "output_type": "execute_result"
    }
   ],
   "source": [
    "data01.head()"
   ]
  },
  {
   "cell_type": "code",
   "execution_count": null,
   "id": "d5308924",
   "metadata": {},
   "outputs": [],
   "source": [
    "\n",
    "import plotly.graph_objects as go\n",
    "import plotly.io as pio\n",
    "\n",
    "pio.renderers.default = \"browser\"\n",
    "\n",
    "fig = go.Figure(data=[go.Candlestick(x=data01['Date'],\n",
    "                                     open=data01['Open'],\n",
    "                                     high=data01['High'],\n",
    "                                     low=data01['Low'],\n",
    "                                     close=data01['Close'])])\n",
    "\n",
    "fig.update_layout(xaxis_rangeslider_visible=False)\n",
    "fig.show()\n",
    "\n",
    "##  This code will show up in broweser.\n"
   ]
  },
  {
   "cell_type": "code",
   "execution_count": 20,
   "id": "8ff03489",
   "metadata": {},
   "outputs": [
    {
     "name": "stderr",
     "output_type": "stream",
     "text": [
      "C:\\Users\\Rudraksh kaushik\\AppData\\Local\\Temp\\ipykernel_17624\\3471825329.py:1: PerformanceWarning:\n",
      "\n",
      "dropping on a non-lexsorted multi-index without a level parameter may impact performance.\n",
      "\n"
     ]
    },
    {
     "data": {
      "text/html": [
       "<div>\n",
       "<style scoped>\n",
       "    .dataframe tbody tr th:only-of-type {\n",
       "        vertical-align: middle;\n",
       "    }\n",
       "\n",
       "    .dataframe tbody tr th {\n",
       "        vertical-align: top;\n",
       "    }\n",
       "\n",
       "    .dataframe thead tr th {\n",
       "        text-align: left;\n",
       "    }\n",
       "</style>\n",
       "<table border=\"1\" class=\"dataframe\">\n",
       "  <thead>\n",
       "    <tr>\n",
       "      <th>Price</th>\n",
       "      <th>Close</th>\n",
       "      <th>High</th>\n",
       "      <th>Low</th>\n",
       "      <th>Open</th>\n",
       "      <th>Volume</th>\n",
       "    </tr>\n",
       "    <tr>\n",
       "      <th>Ticker</th>\n",
       "      <th>GS</th>\n",
       "      <th>GS</th>\n",
       "      <th>GS</th>\n",
       "      <th>GS</th>\n",
       "      <th>GS</th>\n",
       "    </tr>\n",
       "  </thead>\n",
       "  <tbody>\n",
       "    <tr>\n",
       "      <th>0</th>\n",
       "      <td>61.663677</td>\n",
       "      <td>65.896782</td>\n",
       "      <td>61.270915</td>\n",
       "      <td>65.765861</td>\n",
       "      <td>1822600</td>\n",
       "    </tr>\n",
       "    <tr>\n",
       "      <th>1</th>\n",
       "      <td>57.779663</td>\n",
       "      <td>61.096320</td>\n",
       "      <td>57.430541</td>\n",
       "      <td>60.747199</td>\n",
       "      <td>1647700</td>\n",
       "    </tr>\n",
       "    <tr>\n",
       "      <th>2</th>\n",
       "      <td>55.073982</td>\n",
       "      <td>57.168714</td>\n",
       "      <td>54.724860</td>\n",
       "      <td>56.470470</td>\n",
       "      <td>1516600</td>\n",
       "    </tr>\n",
       "    <tr>\n",
       "      <th>3</th>\n",
       "      <td>57.430546</td>\n",
       "      <td>59.001594</td>\n",
       "      <td>54.899412</td>\n",
       "      <td>54.899412</td>\n",
       "      <td>1845100</td>\n",
       "    </tr>\n",
       "    <tr>\n",
       "      <th>4</th>\n",
       "      <td>57.648777</td>\n",
       "      <td>58.085180</td>\n",
       "      <td>55.772246</td>\n",
       "      <td>57.997899</td>\n",
       "      <td>1127400</td>\n",
       "    </tr>\n",
       "  </tbody>\n",
       "</table>\n",
       "</div>"
      ],
      "text/plain": [
       "Price       Close       High        Low       Open   Volume\n",
       "Ticker         GS         GS         GS         GS       GS\n",
       "0       61.663677  65.896782  61.270915  65.765861  1822600\n",
       "1       57.779663  61.096320  57.430541  60.747199  1647700\n",
       "2       55.073982  57.168714  54.724860  56.470470  1516600\n",
       "3       57.430546  59.001594  54.899412  54.899412  1845100\n",
       "4       57.648777  58.085180  55.772246  57.997899  1127400"
      ]
     },
     "execution_count": 20,
     "metadata": {},
     "output_type": "execute_result"
    }
   ],
   "source": [
    "df=df.drop(['Date'],axis=1)\n",
    "df.head()"
   ]
  },
  {
   "cell_type": "code",
   "execution_count": 21,
   "id": "00ee03ea",
   "metadata": {},
   "outputs": [
    {
     "data": {
      "image/png": "[encoded data removed]",
      "text/plain": [
       "<Figure size 1200x600 with 1 Axes>"
      ]
     },
     "metadata": {},
     "output_type": "display_data"
    }
   ],
   "source": [
    "plt.figure(figsize=(12,6))\n",
    "plt.plot(df['Close'],label=f'{stock} Closing Price',linewidth=1)\n",
    "plt.title(f'{stock} Cosing Over Time')\n",
    "plt.xlabel('Date')\n",
    "plt.ylabel('Closing Price (USD)')\n",
    "plt.legend()\n",
    "plt.show()"
   ]
  },
  {
   "cell_type": "code",
   "execution_count": null,
   "id": "b77babe7",
   "metadata": {},
   "outputs": [],
   "source": []
  },
  {
   "cell_type": "code",
   "execution_count": 24,
   "id": "1171fe38",
   "metadata": {},
   "outputs": [],
   "source": [
    "ma200=df.Close.rolling(200).mean()\n",
    "ma100=df.Close.rolling(100).mean()"
   ]
  },
  {
   "cell_type": "code",
   "execution_count": 26,
   "id": "3c29aae4",
   "metadata": {},
   "outputs": [
    {
     "data": {
      "image/png": "[encoded data removed]",
      "text/plain": [
       "<Figure size 1200x600 with 1 Axes>"
      ]
     },
     "metadata": {},
     "output_type": "display_data"
    }
   ],
   "source": [
    "plt.figure(figsize=(12,6))\n",
    "plt.plot(ma100,label=f'{stock} Moving average ma100',linewidth=1)\n",
    "plt.plot(ma200,label=f'{stock} Moving average ma200',linewidth=1)\n",
    "plt.legend()\n",
    "plt.show()"
   ]
  },
  {
   "cell_type": "code",
   "execution_count": null,
   "id": "66443ea0",
   "metadata": {},
   "outputs": [],
   "source": []
  },
  {
   "cell_type": "code",
   "execution_count": 27,
   "id": "1244d95c",
   "metadata": {},
   "outputs": [],
   "source": [
    "# Training and testing\n",
    "data_training=pd.DataFrame(df['Close'][0:int(len(df)*0.70)])\n",
    "data_testing=pd.DataFrame(df['Close'][int(len(df)*0.70):int(len(df))])"
   ]
  },
  {
   "cell_type": "code",
   "execution_count": 28,
   "id": "2085f81f",
   "metadata": {},
   "outputs": [
    {
     "data": {
      "text/plain": [
       "(4524, 1)"
      ]
     },
     "execution_count": 28,
     "metadata": {},
     "output_type": "execute_result"
    }
   ],
   "source": [
    "data_training.shape"
   ]
  },
  {
   "cell_type": "code",
   "execution_count": 29,
   "id": "12fbae45",
   "metadata": {},
   "outputs": [
    {
     "data": {
      "text/plain": [
       "(1939, 1)"
      ]
     },
     "execution_count": 29,
     "metadata": {},
     "output_type": "execute_result"
    }
   ],
   "source": [
    "data_testing.shape"
   ]
  },
  {
   "cell_type": "code",
   "execution_count": 30,
   "id": "2662980e",
   "metadata": {},
   "outputs": [],
   "source": [
    "from sklearn.preprocessing import MinMaxScaler\n",
    "scaler=MinMaxScaler(feature_range=(0,1))"
   ]
  },
  {
   "cell_type": "code",
   "execution_count": 31,
   "id": "890f43a8",
   "metadata": {},
   "outputs": [
    {
     "data": {
      "text/plain": [
       "array([[0.12551821],\n",
       "       [0.10404338],\n",
       "       [0.0890836 ],\n",
       "       ...,\n",
       "       [0.97285211],\n",
       "       [1.        ],\n",
       "       [0.99050061]], shape=(4524, 1))"
      ]
     },
     "execution_count": 31,
     "metadata": {},
     "output_type": "execute_result"
    }
   ],
   "source": [
    "data_training_array=scaler.fit_transform(data_training)\n",
    "data_training_array"
   ]
  },
  {
   "cell_type": "code",
   "execution_count": 32,
   "id": "82621bc8",
   "metadata": {},
   "outputs": [
    {
     "data": {
      "text/plain": [
       "4524"
      ]
     },
     "execution_count": 32,
     "metadata": {},
     "output_type": "execute_result"
    }
   ],
   "source": [
    "data_training_array.shape[0]"
   ]
  }
 ],
 "metadata": {
  "kernelspec": {
   "display_name": "venv",
   "language": "python",
   "name": "python3"
  },
  "language_info": {
   "codemirror_mode": {
    "name": "ipython",
    "version": 3
   },
   "file_extension": ".py",
   "mimetype": "text/x-python",
   "name": "python",
   "nbconvert_exporter": "python",
   "pygments_lexer": "ipython3",
   "version": "3.10.7"
  }
 },
 "nbformat": 4,
 "nbformat_minor": 5
}
